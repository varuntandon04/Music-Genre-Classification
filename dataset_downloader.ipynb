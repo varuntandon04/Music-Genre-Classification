{
 "cells": [
  {
   "cell_type": "code",
   "execution_count": 1,
   "id": "8584d071",
   "metadata": {},
   "outputs": [
    {
     "name": "stdout",
     "output_type": "stream",
     "text": [
      "Requirement already satisfied: opendatasets in c:\\users\\varun\\anaconda3\\envs\\librosa_music_env\\lib\\site-packages (0.1.22)\n",
      "Requirement already satisfied: click in c:\\users\\varun\\anaconda3\\envs\\librosa_music_env\\lib\\site-packages (from opendatasets) (8.1.3)\n",
      "Requirement already satisfied: kaggle in c:\\users\\varun\\anaconda3\\envs\\librosa_music_env\\lib\\site-packages (from opendatasets) (1.5.12)\n",
      "Requirement already satisfied: tqdm in c:\\users\\varun\\anaconda3\\envs\\librosa_music_env\\lib\\site-packages (from opendatasets) (4.64.0)\n",
      "Requirement already satisfied: colorama in c:\\users\\varun\\anaconda3\\envs\\librosa_music_env\\lib\\site-packages (from click->opendatasets) (0.4.5)\n",
      "Requirement already satisfied: requests in c:\\users\\varun\\anaconda3\\envs\\librosa_music_env\\lib\\site-packages (from kaggle->opendatasets) (2.28.1)\n",
      "Requirement already satisfied: certifi in c:\\users\\varun\\anaconda3\\envs\\librosa_music_env\\lib\\site-packages (from kaggle->opendatasets) (2022.6.15)\n",
      "Requirement already satisfied: python-slugify in c:\\users\\varun\\anaconda3\\envs\\librosa_music_env\\lib\\site-packages (from kaggle->opendatasets) (6.1.2)\n",
      "Requirement already satisfied: urllib3 in c:\\users\\varun\\anaconda3\\envs\\librosa_music_env\\lib\\site-packages (from kaggle->opendatasets) (1.26.10)\n",
      "Requirement already satisfied: six>=1.10 in c:\\users\\varun\\anaconda3\\envs\\librosa_music_env\\lib\\site-packages (from kaggle->opendatasets) (1.16.0)\n",
      "Requirement already satisfied: python-dateutil in c:\\users\\varun\\anaconda3\\envs\\librosa_music_env\\lib\\site-packages (from kaggle->opendatasets) (2.8.2)\n",
      "Requirement already satisfied: text-unidecode>=1.3 in c:\\users\\varun\\anaconda3\\envs\\librosa_music_env\\lib\\site-packages (from python-slugify->kaggle->opendatasets) (1.3)\n",
      "Requirement already satisfied: idna<4,>=2.5 in c:\\users\\varun\\anaconda3\\envs\\librosa_music_env\\lib\\site-packages (from requests->kaggle->opendatasets) (3.3)\n",
      "Requirement already satisfied: charset-normalizer<3,>=2 in c:\\users\\varun\\anaconda3\\envs\\librosa_music_env\\lib\\site-packages (from requests->kaggle->opendatasets) (2.1.0)\n"
     ]
    }
   ],
   "source": [
    "!pip install opendatasets"
   ]
  },
  {
   "cell_type": "code",
   "execution_count": 2,
   "id": "86050940",
   "metadata": {},
   "outputs": [
    {
     "name": "stdout",
     "output_type": "stream",
     "text": [
      "Please provide your Kaggle credentials to download this dataset. Learn more: http://bit.ly/kaggle-creds\n",
      "Your Kaggle username: varuntandon04\n",
      "Your Kaggle Key: ········\n",
      "Downloading gtzan-dataset-music-genre-classification.zip to .\\gtzan-dataset-music-genre-classification\n"
     ]
    },
    {
     "name": "stderr",
     "output_type": "stream",
     "text": [
      "100%|██████████| 1.21G/1.21G [03:51<00:00, 5.62MB/s]\n"
     ]
    },
    {
     "name": "stdout",
     "output_type": "stream",
     "text": [
      "\n"
     ]
    }
   ],
   "source": [
    "import opendatasets as od\n",
    "\n",
    "od.download('https://www.kaggle.com/datasets/andradaolteanu/gtzan-dataset-music-genre-classification')"
   ]
  },
  {
   "cell_type": "markdown",
   "id": "de908022",
   "metadata": {},
   "source": [
    "The above code block will download the GTZAN Dataset used in this project. To complete the download, a kaggle username and key will be required.\n",
    "\n",
    "To generate both, go to the __Account__ tab and scroll down to the __API__ section. Click on __Create New API Token__ to download a json file. Open this file in a notebook or using a text editor to get the username and key. The data needs to be downloaded only once. It is about 1.2GB so uploading it may not be viable."
   ]
  }
 ],
 "metadata": {
  "kernelspec": {
   "display_name": "Python 3 (ipykernel)",
   "language": "python",
   "name": "python3"
  },
  "language_info": {
   "codemirror_mode": {
    "name": "ipython",
    "version": 3
   },
   "file_extension": ".py",
   "mimetype": "text/x-python",
   "name": "python",
   "nbconvert_exporter": "python",
   "pygments_lexer": "ipython3",
   "version": "3.9.12"
  }
 },
 "nbformat": 4,
 "nbformat_minor": 5
}
